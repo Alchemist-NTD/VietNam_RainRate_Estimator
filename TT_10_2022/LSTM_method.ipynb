{
  "nbformat": 4,
  "nbformat_minor": 0,
  "metadata": {
    "colab": {
      "provenance": [],
      "collapsed_sections": []
    },
    "kernelspec": {
      "name": "python3",
      "display_name": "Python 3"
    },
    "language_info": {
      "name": "python"
    }
  },
  "cells": [
    {
      "cell_type": "code",
      "execution_count": null,
      "metadata": {
        "id": "VN4zaEHpt4lr",
        "colab": {
          "base_uri": "https://localhost:8080/"
        },
        "outputId": "32ee1cd3-e878-4606-e1e5-0d45fa9e4340"
      },
      "outputs": [
        {
          "output_type": "stream",
          "name": "stdout",
          "text": [
            "Mounted at /content/drive\n"
          ]
        }
      ],
      "source": [
        "import numpy as np\n",
        "from google.colab import drive\n",
        "import pandas as pd\n",
        "import keras\n",
        "from keras.models import Sequential\n",
        "from keras.layers import LSTM\n",
        "from keras.layers import Dense\n",
        "from keras.layers import BatchNormalization\n",
        "import tensorflow as tf\n",
        "from sklearn.metrics import classification_report\n",
        "import matplotlib.pyplot as plt\n",
        "import seaborn as sns\n",
        "from sklearn.metrics import roc_curve, auc, classification_report, roc_auc_score, confusion_matrix, ConfusionMatrixDisplay, mean_squared_error\n",
        "import warnings\n",
        "drive.mount('/content/drive')\n",
        "pd.set_option('display.max_columns', None)\n",
        "warnings.filterwarnings(\"ignore\")"
      ]
    },
    {
      "cell_type": "code",
      "source": [
        "def process_time_column(path):\n",
        "    df = pd.read_csv(path).drop_duplicates()\n",
        "    df['utc_time'] = pd.to_datetime(df['utc_time'])\n",
        "    df['day'], df['time'] = df['utc_time'].dt.date, df['utc_time'].dt.time\n",
        "    return df.sort_values(by=['id', 'day', 'time']).drop(columns=['Name', 'day', 'time'])\n",
        "\n",
        "def attach_sequence(df):\n",
        "    name = df['id'].unique()\n",
        "    Xbar, ybar = [], []\n",
        "    for s_name in name:\n",
        "        sub_df = df[df['id'] == s_name].drop(columns=['id'])\n",
        "        for idx in range(2, len(sub_df)):\n",
        "            if sub_df.iloc[idx, 3] + pd.Timedelta(-1, 'h') == sub_df.iloc[idx - 1, 3] and sub_df.iloc[idx, 3] + pd.Timedelta(-2, 'h') == sub_df.iloc[idx - 2, 3]:\n",
        "                Xbar.append(np.array([np.array(list([np.array(sub_df.iloc[idx - 2, [x for x in range(0, 13) if x not in [2, 3]]], dtype=np.float32), \\\n",
        "                                           np.array(sub_df.iloc[idx - 1, [x for x in range(0, 13) if x not in [2, 3]]], dtype=np.float32), \\\n",
        "                                           np.array(sub_df.iloc[idx, [x for x in range(0, 13) if x not in [2, 3]]], dtype=np.float32)]))]))\n",
        "                ybar.append(sub_df.iloc[idx, 2])\n",
        "    Xbar = np.array(Xbar)\n",
        "    return Xbar.reshape(Xbar.shape[0], Xbar.shape[2], Xbar.shape[3]), np.array(ybar)\n",
        "\n",
        "def get_train_test_data(num_case):\n",
        "    path_train = '/content/drive/My Drive/Data_match (new)/cv' +  str(num_case) + '_data_train_92022.csv'\n",
        "    path_test = '/content/drive/My Drive/Data_match (new)/cv' +  str(num_case) + '_data_test_92022.csv'\n",
        "    test_X, test_y = attach_sequence(process_time_column(path_test))\n",
        "    train_X, train_y = attach_sequence(process_time_column(path_train))\n",
        "    return train_X, train_y, test_X, test_y\n",
        "\n",
        "def model_b():\n",
        "    model = Sequential()\n",
        "    model.add(LSTM(32, input_shape=(3, 11)))\n",
        "    model.add(BatchNormalization())\n",
        "    model.add(tf.keras.layers.Dense(16, activation='relu'))\n",
        "    model.add(tf.keras.layers.Dense(8, activation='relu'))\n",
        "    model.add(tf.keras.layers.Dense(1, activation= tf.keras.activations.sigmoid))\n",
        "    model.compile(optimizer='adam', loss=keras.losses.BinaryCrossentropy(), metrics=[tf.keras.metrics.AUC()])\n",
        "    print(model.summary()), model.output_shape\n",
        "    return model\n",
        "\n",
        "def model_r():\n",
        "    model = Sequential()\n",
        "    model.add(LSTM(32, input_shape=(3, 11)))\n",
        "    model.add(BatchNormalization())\n",
        "    model.add(tf.keras.layers.Dense(16, activation='relu'))\n",
        "    model.add(tf.keras.layers.Dense(8, activation='relu'))\n",
        "    model.add(tf.keras.layers.Dense(1))\n",
        "    model.compile(optimizer='adam', loss=keras.losses.MeanSquaredError())\n",
        "    print(model.summary()), model.output_shape\n",
        "    return model\n",
        "\n",
        "early_stopping_monitor = tf.keras.callbacks.EarlyStopping(\n",
        "    monitor='val_loss',\n",
        "    min_delta=0,\n",
        "    patience=10,\n",
        "    verbose=0,\n",
        "    mode='auto',\n",
        "    baseline=None,\n",
        "    restore_best_weights=True\n",
        ")\n",
        "\n",
        "def get_result(num_case, batch_size, epoch):\n",
        "    train_X, train_y, test_X, test_y = get_train_test_data(num_case)\n",
        "    model_cls = model_b()\n",
        "    model_regr = model_r()\n",
        "    # training classifier model\n",
        "    model_cls.fit(train_X, (train_y > 0).astype(np.int16), validation_data=(test_X, (test_y > 0).astype(np.int16)), batch_size=batch_size, epochs=epoch, callbacks=[early_stopping_monitor])\n",
        "    y_cls_pred = model_cls.predict(test_X)\n",
        "    # y true is test_y > 0.5\n",
        "    y_cls_true = (test_y > 0).astype(np.int16)\n",
        "    a = (model_cls.predict(train_X) > 0.5).astype(np.int16)\n",
        "    b = (y_cls_pred > 0.5).astype(np.int16)\n",
        "    # training regressor model\n",
        "    train_r_y = np.array([train_y[i] for i in range(train_y.shape[0]) if a[i] == 1])\n",
        "    train_r_X = np.array([train_X[i] for i in range(train_y.shape[0]) if  a[i] == 1])\n",
        "    b = (model_cls.predict(test_X) > 0.5).astype(np.int16)\n",
        "    test_r_X, test_r_y = np.array([test_X[i] for i in range(test_X.shape[0]) if b[i] == 1]), np.array([test_y[i] for i in range(test_y.shape[0]) if b[i] == 1])\n",
        "    model_regr.fit(train_r_X, train_r_y, validation_data=(test_r_X, test_r_y), batch_size=512, epochs=10, callbacks=[early_stopping_monitor])\n",
        "    y_regr_pred = model_regr.predict(test_X)\n",
        "    y_regr_pred = np.array([b[i] * y_regr_pred[i] for i in range(y_regr_pred.shape[0])])\n",
        "    # y_cls_pred return for probability form\n",
        "    # y_cls_true return for [0, 1] form\n",
        "    # y_regr_pred return for float form\n",
        "    # test_y present for y_regr_true\n",
        "    return y_cls_pred, y_cls_true, y_regr_pred, test_y"
      ],
      "metadata": {
        "id": "9UEct8uLUD9v"
      },
      "execution_count": null,
      "outputs": []
    },
    {
      "cell_type": "markdown",
      "source": [
        "---"
      ],
      "metadata": {
        "id": "gZh9j1kWGQpG"
      }
    },
    {
      "cell_type": "code",
      "source": [
        "y_cls_pred, y_cls_true, y_regr_pred, y_regr_true = get_result(13, 512, 10)"
      ],
      "metadata": {
        "colab": {
          "base_uri": "https://localhost:8080/"
        },
        "id": "PooTUtp88REg",
        "outputId": "3eb1023d-5750-426d-aa6f-2417b6ac4810"
      },
      "execution_count": null,
      "outputs": [
        {
          "output_type": "stream",
          "name": "stdout",
          "text": [
            "Model: \"sequential_2\"\n",
            "_________________________________________________________________\n",
            " Layer (type)                Output Shape              Param #   \n",
            "=================================================================\n",
            " lstm_2 (LSTM)               (None, 32)                5632      \n",
            "                                                                 \n",
            " batch_normalization_2 (Batc  (None, 32)               128       \n",
            " hNormalization)                                                 \n",
            "                                                                 \n",
            " dense_6 (Dense)             (None, 16)                528       \n",
            "                                                                 \n",
            " dense_7 (Dense)             (None, 8)                 136       \n",
            "                                                                 \n",
            " dense_8 (Dense)             (None, 1)                 9         \n",
            "                                                                 \n",
            "=================================================================\n",
            "Total params: 6,433\n",
            "Trainable params: 6,369\n",
            "Non-trainable params: 64\n",
            "_________________________________________________________________\n",
            "None\n",
            "Model: \"sequential_3\"\n",
            "_________________________________________________________________\n",
            " Layer (type)                Output Shape              Param #   \n",
            "=================================================================\n",
            " lstm_3 (LSTM)               (None, 32)                5632      \n",
            "                                                                 \n",
            " batch_normalization_3 (Batc  (None, 32)               128       \n",
            " hNormalization)                                                 \n",
            "                                                                 \n",
            " dense_9 (Dense)             (None, 16)                528       \n",
            "                                                                 \n",
            " dense_10 (Dense)            (None, 8)                 136       \n",
            "                                                                 \n",
            " dense_11 (Dense)            (None, 1)                 9         \n",
            "                                                                 \n",
            "=================================================================\n",
            "Total params: 6,433\n",
            "Trainable params: 6,369\n",
            "Non-trainable params: 64\n",
            "_________________________________________________________________\n",
            "None\n",
            "Epoch 1/10\n",
            "380/380 [==============================] - 5s 7ms/step - loss: 0.6559 - auc_1: 0.6490 - val_loss: 0.6687 - val_auc_1: 0.6153\n",
            "Epoch 2/10\n",
            "380/380 [==============================] - 2s 6ms/step - loss: 0.6468 - auc_1: 0.6670 - val_loss: 0.6680 - val_auc_1: 0.6202\n",
            "Epoch 3/10\n",
            "380/380 [==============================] - 2s 6ms/step - loss: 0.6430 - auc_1: 0.6743 - val_loss: 0.6643 - val_auc_1: 0.6214\n",
            "Epoch 4/10\n",
            "380/380 [==============================] - 2s 6ms/step - loss: 0.6395 - auc_1: 0.6801 - val_loss: 0.6632 - val_auc_1: 0.6337\n",
            "Epoch 5/10\n",
            "380/380 [==============================] - 2s 6ms/step - loss: 0.6386 - auc_1: 0.6813 - val_loss: 0.6623 - val_auc_1: 0.6324\n",
            "Epoch 6/10\n",
            "380/380 [==============================] - 2s 6ms/step - loss: 0.6364 - auc_1: 0.6849 - val_loss: 0.6688 - val_auc_1: 0.6159\n",
            "Epoch 7/10\n",
            "380/380 [==============================] - 2s 6ms/step - loss: 0.6349 - auc_1: 0.6872 - val_loss: 0.6637 - val_auc_1: 0.6322\n",
            "Epoch 8/10\n",
            "380/380 [==============================] - 2s 6ms/step - loss: 0.6332 - auc_1: 0.6896 - val_loss: 0.6766 - val_auc_1: 0.6057\n",
            "Epoch 9/10\n",
            "380/380 [==============================] - 2s 6ms/step - loss: 0.6312 - auc_1: 0.6928 - val_loss: 0.6697 - val_auc_1: 0.6191\n",
            "Epoch 10/10\n",
            "380/380 [==============================] - 2s 6ms/step - loss: 0.6298 - auc_1: 0.6947 - val_loss: 0.6560 - val_auc_1: 0.6493\n",
            "676/676 [==============================] - 1s 1ms/step\n",
            "6068/6068 [==============================] - 7s 1ms/step\n",
            "676/676 [==============================] - 1s 1ms/step\n",
            "Epoch 1/10\n",
            "229/229 [==============================] - 3s 8ms/step - loss: 34.3226 - val_loss: 7.5954\n",
            "Epoch 2/10\n",
            "229/229 [==============================] - 1s 6ms/step - loss: 32.9188 - val_loss: 9.0312\n",
            "Epoch 3/10\n",
            "229/229 [==============================] - 1s 6ms/step - loss: 32.7025 - val_loss: 9.1325\n",
            "Epoch 4/10\n",
            "229/229 [==============================] - 1s 6ms/step - loss: 32.5096 - val_loss: 8.3929\n",
            "Epoch 5/10\n",
            "229/229 [==============================] - 1s 6ms/step - loss: 32.4719 - val_loss: 8.5999\n",
            "Epoch 6/10\n",
            "229/229 [==============================] - 1s 6ms/step - loss: 32.4152 - val_loss: 7.5303\n",
            "Epoch 7/10\n",
            "229/229 [==============================] - 1s 6ms/step - loss: 32.3896 - val_loss: 8.8524\n",
            "Epoch 8/10\n",
            "229/229 [==============================] - 1s 6ms/step - loss: 32.2943 - val_loss: 8.8131\n",
            "Epoch 9/10\n",
            "229/229 [==============================] - 1s 6ms/step - loss: 32.2258 - val_loss: 8.1133\n",
            "Epoch 10/10\n",
            "229/229 [==============================] - 1s 6ms/step - loss: 32.1205 - val_loss: 7.5702\n",
            "676/676 [==============================] - 1s 1ms/step\n"
          ]
        }
      ]
    },
    {
      "cell_type": "code",
      "source": [
        "print(classification_report((y_cls_pred > 0.5).astype(np.int16), y_cls_true))"
      ],
      "metadata": {
        "colab": {
          "base_uri": "https://localhost:8080/"
        },
        "id": "UG6ImsFwRiEQ",
        "outputId": "28edf86a-8877-4849-d272-c199de34d4d7"
      },
      "execution_count": null,
      "outputs": [
        {
          "output_type": "stream",
          "name": "stdout",
          "text": [
            "              precision    recall  f1-score   support\n",
            "\n",
            "           0       0.49      0.56      0.52      8169\n",
            "           1       0.70      0.64      0.67     13434\n",
            "\n",
            "    accuracy                           0.61     21603\n",
            "   macro avg       0.60      0.60      0.60     21603\n",
            "weighted avg       0.62      0.61      0.61     21603\n",
            "\n"
          ]
        }
      ]
    },
    {
      "cell_type": "code",
      "source": [
        "fpr, tpr, threshold = roc_curve((y_cls_true > 0).astype(np.int16), y_cls_pred)\n",
        "roc_auc = auc(fpr, tpr)\n",
        "plt.title('Case 13 AUC curve')\n",
        "plt.plot(fpr, tpr, 'b', label = 'AUC = %0.2f' % roc_auc)\n",
        "plt.legend(loc = 'lower right')\n",
        "plt.plot([0, 1], [0, 1],'r--')\n",
        "plt.xlim([0, 1])\n",
        "plt.ylim([0, 1])\n",
        "plt.ylabel('True Positive Rate')\n",
        "plt.xlabel('False Positive Rate')\n",
        "plt.show()"
      ],
      "metadata": {
        "colab": {
          "base_uri": "https://localhost:8080/"
        },
        "id": "5dugQDZTLbIM",
        "outputId": "477349d9-79e3-4937-d522-5615dc76c54a"
      },
      "execution_count": null,
      "outputs": [
        {
          "output_type": "display_data",
          "data": {
            "text/plain": [
              "<Figure size 432x288 with 1 Axes>"
            ],
            "image/png": "[encoded data removed]"
          },
          "metadata": {
            "needs_background": "light"
          }
        }
      ]
    },
    {
      "cell_type": "code",
      "source": [
        "cfmd = ConfusionMatrixDisplay(confusion_matrix(y_cls_true, (y_cls_pred > 0.5).astype(np.int16)))\n",
        "cfmd.plot()\n",
        "cfmd.ax_.set_title(\"Case 13 CM\")"
      ],
      "metadata": {
        "colab": {
          "base_uri": "https://localhost:8080/"
        },
        "id": "EUKoH3T0JEuk",
        "outputId": "91370da2-edeb-48c0-dfc3-adfaf6d037e5"
      },
      "execution_count": null,
      "outputs": [
        {
          "output_type": "execute_result",
          "data": {
            "text/plain": [
              "Text(0.5, 1.0, 'Case 13 CM')"
            ]
          },
          "metadata": {},
          "execution_count": 12
        },
        {
          "output_type": "display_data",
          "data": {
            "text/plain": [
              "<Figure size 432x288 with 2 Axes>"
            ],
            "image/png": "[encoded data removed]"
          },
          "metadata": {
            "needs_background": "light"
          }
        }
      ]
    },
    {
      "cell_type": "code",
      "source": [
        "print('Case 13 MSE: %.2f' % mean_squared_error(y_regr_true, y_regr_pred))"
      ],
      "metadata": {
        "colab": {
          "base_uri": "https://localhost:8080/"
        },
        "id": "rKVtEL1hIlXk",
        "outputId": "be6b2861-0d7e-4b45-dd71-f99b890c9b22"
      },
      "execution_count": null,
      "outputs": [
        {
          "output_type": "stream",
          "name": "stdout",
          "text": [
            "Case 13 MSE: 6.06\n"
          ]
        }
      ]
    },
    {
      "cell_type": "code",
      "source": [
        "plt.ylabel('Predicted')\n",
        "plt.xlabel('Expected')\n",
        "plt.title('Case 13 Scatter Plot')\n",
        "plt.plot(y_regr_true, y_regr_pred, 'o')\n",
        "m, b = np.polyfit(y_regr_true, y_regr_pred, 1)\n",
        "plt.plot(y_regr_true, m*y_regr_true + b, 'r')\n",
        "plt.show()"
      ],
      "metadata": {
        "id": "nLVujTEGIpRb",
        "colab": {
          "base_uri": "https://localhost:8080/"
        },
        "outputId": "d6c2831d-5d87-4d47-d295-cf9f1d16326c"
      },
      "execution_count": null,
      "outputs": [
        {
          "output_type": "display_data",
          "data": {
            "text/plain": [
              "<Figure size 432x288 with 1 Axes>"
            ],
            "image/png": "[encoded data removed]"
          },
          "metadata": {
            "needs_background": "light"
          }
        }
      ]
    },
    {
      "cell_type": "markdown",
      "source": [
        "---"
      ],
      "metadata": {
        "id": "Vguv1pzMGTYv"
      }
    }
  ]
}