{
  "nbformat": 4,
  "nbformat_minor": 0,
  "metadata": {
    "colab": {
      "provenance": [],
      "collapsed_sections": []
    },
    "kernelspec": {
      "name": "python3",
      "display_name": "Python 3"
    },
    "language_info": {
      "name": "python"
    }
  },
  "cells": [
    {
      "cell_type": "code",
      "execution_count": 1,
      "metadata": {
        "id": "6QY9Vp7CR4rw",
        "colab": {
          "base_uri": "https://localhost:8080/"
        },
        "outputId": "268870f6-2096-4144-d000-98af4fdb7308"
      },
      "outputs": [
        {
          "output_type": "stream",
          "name": "stdout",
          "text": [
            "Mounted at /content/drive\n"
          ]
        }
      ],
      "source": [
        "from sklearn.ensemble import RandomForestClassifier\n",
        "from sklearn.metrics import classification_report\n",
        "from google.colab import drive\n",
        "from sklearn.model_selection import GridSearchCV\n",
        "from sklearn.ensemble import RandomForestRegressor\n",
        "import numpy as np\n",
        "import pandas as pd\n",
        "from sklearn.metrics import classification_report\n",
        "import matplotlib.pyplot as plt\n",
        "import seaborn as sns\n",
        "from sklearn.metrics import roc_curve, auc, classification_report, roc_auc_score, confusion_matrix, ConfusionMatrixDisplay, mean_squared_error\n",
        "import warnings\n",
        "drive.mount('/content/drive')\n",
        "pd.set_option('display.max_columns', None)\n",
        "warnings.filterwarnings(\"ignore\")"
      ]
    },
    {
      "cell_type": "markdown",
      "source": [
        "Cần lấy được AUC của từng cái\n",
        "Lấy nhãn dự đoán + nhãn"
      ],
      "metadata": {
        "id": "Gwnrf45UUPrt"
      }
    },
    {
      "cell_type": "code",
      "source": [
        "def process_time_column(path):\n",
        "    df = pd.read_csv(path).drop_duplicates().drop(columns=['Name', 'id'])\n",
        "    df['utc_time'] = pd.to_datetime(df['utc_time'])\n",
        "    df['day'], df['month'] = pd.Series(np.array(df['utc_time'].dt.day)), pd.Series(np.array(df['utc_time'].dt.month))\n",
        "    return df.drop(columns=['utc_time'])"
      ],
      "metadata": {
        "id": "tsp4zWjn0R4O"
      },
      "execution_count": 2,
      "outputs": []
    },
    {
      "cell_type": "code",
      "source": [
        "def get_data(num_case):\n",
        "    df_tr = process_time_column('/content/drive/My Drive/Data_match (new)/cv' + str(num_case) + '_data_train_92022.csv')\n",
        "    df_tst = process_time_column('/content/drive/My Drive/Data_match (new)/cv' + str(num_case) + '_data_test_92022.csv')\n",
        "    return np.array(df_tr.drop(columns=['value'])), np.array(df_tr['value']), np.array(df_tst.drop(columns=['value'])), np.array(df_tst['value'])"
      ],
      "metadata": {
        "id": "sYXVKZ1xy2kd"
      },
      "execution_count": 3,
      "outputs": []
    },
    {
      "cell_type": "code",
      "source": [
        "def get_result(num_case):\n",
        "    X_train, y_train, X_test, y_regr_true = get_data(num_case)\n",
        "\n",
        "    rfc = RandomForestClassifier(n_estimators=500, max_features='sqrt', max_depth=8, criterion='gini', random_state=42)\n",
        "    rfr = RandomForestRegressor(n_estimators=500, max_features='sqrt', max_depth=8, criterion='squared_error', random_state=42)\n",
        "    '''\n",
        "    param_grid = { \n",
        "    'n_estimators': [500],\n",
        "    'max_features': ['auto', 'sqrt', 'log2'],\n",
        "    'max_depth' : [7,8],\n",
        "    'criterion' :['gini', 'entropy'],\n",
        "    'random_state':[42]\n",
        "    }\n",
        "    CV_rfc = GridSearchCV(estimator=rfc, param_grid=param_grid, cv= 5)\n",
        "    CV_rfc.fit(X_train, y_cls_true)\n",
        "    rfc = RandomForestClassifier(CV_rfc.best_params_)\n",
        "    '''\n",
        "    y_cls_train = (y_train > 0).astype(np.int16)\n",
        "    rfc.fit(X_train, y_cls_train)\n",
        "    y_cls_pred = rfc.predict_proba(X_test)[:, 1]\n",
        "    y_cls_true = (y_regr_true > 0).astype(np.int16)\n",
        "    a = rfc.predict(X_train)\n",
        "\n",
        "    '''\n",
        "    param_grid = { \n",
        "    'n_estimators': [500],\n",
        "    'max_features': ['sqrt', 'log2'],\n",
        "    'max_depth' : [7,8],\n",
        "    'criterion' :['squared_error', 'absolute_error', 'poisson'],\n",
        "    'random_state':[42]\n",
        "    }\n",
        "    '''\n",
        "    rX_train = np.array([X_train[i] for i in range(X_train.shape[0]) if a[i] == 1])\n",
        "    ry_train = np.array([y_train[i] for i in range(X_train.shape[0]) if a[i] == 1])\n",
        "    '''\n",
        "    CV_rfr = GridSearchCV(estimator=rfr, param_grid=param_grid, cv= 5)\n",
        "    CV_rfr.fit(rX_train, ry_train)\n",
        "    rfr = RandomForestRegressor(CV_rfr.best_params_)\n",
        "    '''\n",
        "    rfr.fit(rX_train, ry_train)\n",
        "    y_pred = rfc.predict(X_test)\n",
        "    y_regr_pred = rfr.predict(X_test)\n",
        "    y_regr_pred = np.array([y_pred[i] * y_regr_pred[i] for i in range(y_regr_pred.shape[0])])\n",
        "\n",
        "    return y_cls_pred, y_cls_true, y_regr_pred, y_regr_true"
      ],
      "metadata": {
        "id": "KOOCadqlznBW"
      },
      "execution_count": 4,
      "outputs": []
    },
    {
      "cell_type": "markdown",
      "source": [
        "---"
      ],
      "metadata": {
        "id": "e3I1QxjgHaU2"
      }
    },
    {
      "cell_type": "code",
      "source": [
        "y_cls_pred, y_cls_true, y_regr_pred, y_regr_true = get_result(13)"
      ],
      "metadata": {
        "id": "VWVo_ABmyx8m"
      },
      "execution_count": 23,
      "outputs": []
    },
    {
      "cell_type": "code",
      "source": [
        "print(classification_report((y_cls_pred > 0.5).astype(np.int16), y_cls_true))"
      ],
      "metadata": {
        "id": "B8yzhqcKHgke",
        "colab": {
          "base_uri": "https://localhost:8080/"
        },
        "outputId": "62c2e85d-505c-4cfe-bd1a-e4e0ed2a3681"
      },
      "execution_count": 24,
      "outputs": [
        {
          "output_type": "stream",
          "name": "stdout",
          "text": [
            "              precision    recall  f1-score   support\n",
            "\n",
            "           0       0.79      0.65      0.71     33835\n",
            "           1       0.35      0.53      0.43     12247\n",
            "\n",
            "    accuracy                           0.62     46082\n",
            "   macro avg       0.57      0.59      0.57     46082\n",
            "weighted avg       0.68      0.62      0.64     46082\n",
            "\n"
          ]
        }
      ]
    },
    {
      "cell_type": "code",
      "source": [
        "fpr, tpr, threshold = roc_curve((y_cls_true > 0).astype(np.int16), y_cls_pred)\n",
        "roc_auc = auc(fpr, tpr)\n",
        "plt.title('Case 13 AUC curve')\n",
        "plt.plot(fpr, tpr, 'b', label = 'AUC = %0.2f' % roc_auc)\n",
        "plt.legend(loc = 'lower right')\n",
        "plt.plot([0, 1], [0, 1],'r--')\n",
        "plt.xlim([0, 1])\n",
        "plt.ylim([0, 1])\n",
        "plt.ylabel('True Positive Rate')\n",
        "plt.xlabel('False Positive Rate')\n",
        "plt.show()"
      ],
      "metadata": {
        "id": "Rj-stNg9IrWt",
        "colab": {
          "base_uri": "https://localhost:8080/",
          "height": 295
        },
        "outputId": "bf923575-2223-498c-ffb2-f10d687acc06"
      },
      "execution_count": 25,
      "outputs": [
        {
          "output_type": "display_data",
          "data": {
            "text/plain": [
              "<Figure size 432x288 with 1 Axes>"
            ],
            "image/png": "[encoded data removed]"
          },
          "metadata": {
            "needs_background": "light"
          }
        }
      ]
    },
    {
      "cell_type": "code",
      "source": [
        "cfmd = ConfusionMatrixDisplay(confusion_matrix(y_cls_true, (y_cls_pred > 0.5).astype(np.int16)))\n",
        "cfmd.plot()\n",
        "cfmd.ax_.set_title(\"Case 13 CM\")"
      ],
      "metadata": {
        "id": "evdiUPevHjSd",
        "colab": {
          "base_uri": "https://localhost:8080/",
          "height": 312
        },
        "outputId": "4c07c2e4-910d-4482-c767-78219ce7e421"
      },
      "execution_count": 26,
      "outputs": [
        {
          "output_type": "execute_result",
          "data": {
            "text/plain": [
              "Text(0.5, 1.0, 'Case 13 CM')"
            ]
          },
          "metadata": {},
          "execution_count": 26
        },
        {
          "output_type": "display_data",
          "data": {
            "text/plain": [
              "<Figure size 432x288 with 2 Axes>"
            ],
            "image/png": "[encoded data removed]"
          },
          "metadata": {
            "needs_background": "light"
          }
        }
      ]
    },
    {
      "cell_type": "code",
      "source": [
        "print('Case 13 MSE: %.2f' % mean_squared_error(y_regr_true, y_regr_pred))"
      ],
      "metadata": {
        "colab": {
          "base_uri": "https://localhost:8080/"
        },
        "id": "OOKPZef7heR9",
        "outputId": "94631c3c-ae4c-43d0-fbaa-53aaba74974d"
      },
      "execution_count": 27,
      "outputs": [
        {
          "output_type": "stream",
          "name": "stdout",
          "text": [
            "Case 13 MSE: 7.93\n"
          ]
        }
      ]
    },
    {
      "cell_type": "code",
      "source": [
        "plt.ylabel('Predicted')\n",
        "plt.xlabel('Expected')\n",
        "plt.title('Case 13 Scatter Plot')\n",
        "plt.plot(y_regr_true, y_regr_pred, 'o')\n",
        "m, b = np.polyfit(y_regr_true, y_regr_pred, 1)\n",
        "plt.plot(y_regr_true, m*y_regr_true + b, 'r')\n",
        "plt.show()"
      ],
      "metadata": {
        "colab": {
          "base_uri": "https://localhost:8080/",
          "height": 295
        },
        "id": "hFHGSCfOhhTk",
        "outputId": "65d7b388-b2d6-4197-ea59-bfc8a10b503d"
      },
      "execution_count": 28,
      "outputs": [
        {
          "output_type": "display_data",
          "data": {
            "text/plain": [
              "<Figure size 432x288 with 1 Axes>"
            ],
            "image/png": "[encoded data removed]"
          },
          "metadata": {
            "needs_background": "light"
          }
        }
      ]
    },
    {
      "cell_type": "markdown",
      "source": [
        "---"
      ],
      "metadata": {
        "id": "0ldz8WEbHbQl"
      }
    }
  ]
}